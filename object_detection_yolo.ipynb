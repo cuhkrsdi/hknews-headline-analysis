{
 "cells": [
  {
   "cell_type": "markdown",
   "source": [
    "# Object Detection - YOLOv5\n",
    "In order to extract headline texts from historical newspapers, our team employed PyTorch and YOLOv5 to train an object detection model."
   ],
   "metadata": {
    "collapsed": false,
    "pycharm": {
     "name": "#%% md\n"
    }
   }
  },
  {
   "cell_type": "code",
   "execution_count": null,
   "outputs": [],
   "source": [
    "!pip install -q gdown\n",
    "!pip install -q --upgrade gdown"
   ],
   "metadata": {
    "collapsed": false,
    "pycharm": {
     "name": "#%%\n",
     "is_executing": true
    }
   }
  },
  {
   "cell_type": "code",
   "execution_count": 27,
   "outputs": [],
   "source": [
    "import gdown\n",
    "import torch\n",
    "from pathlib import Path\n",
    "import matplotlib.pyplot as plt\n",
    "%matplotlib inline"
   ],
   "metadata": {
    "collapsed": false,
    "pycharm": {
     "name": "#%%\n"
    }
   }
  },
  {
   "cell_type": "code",
   "execution_count": null,
   "outputs": [],
   "source": [
    "weight_id = \"1Q-4vBV9SSBR1pJZae-Yo7jv5lHzKFoRv\"\n",
    "image_id =\"1LmKS_GwesyRqgBD0NxMFpg7Z9Cn049e_\"\n",
    "\n",
    "# download weight file from drive\n",
    "weight_url = f\"https://drive.google.com/uc?id={weight_id}\"\n",
    "weight_output = \"hknews.pt\"\n",
    "gdown.download(weight_url, weight_output, quiet=True)\n",
    "\n",
    "# download toy image from drive\n",
    "image_url = f\"https://drive.google.com/uc?id={image_id}\"\n",
    "image_output = \"image.jpg\"\n",
    "gdown.download(image_url, image_output, quiet=True)"
   ],
   "metadata": {
    "collapsed": false,
    "pycharm": {
     "name": "#%%\n"
    }
   }
  },
  {
   "cell_type": "code",
   "execution_count": null,
   "outputs": [],
   "source": [
    "# build model\n",
    "model = torch.hub.load('ultralytics/yolov5', 'custom', path='hknews.pt')"
   ],
   "metadata": {
    "collapsed": false,
    "pycharm": {
     "name": "#%%\n",
     "is_executing": true
    }
   }
  },
  {
   "cell_type": "code",
   "execution_count": 15,
   "outputs": [],
   "source": [
    "# read image. predict and save result.\n",
    "img = 'image.jpg'\n",
    "result = model(img)\n",
    "result.save()"
   ],
   "metadata": {
    "collapsed": false,
    "pycharm": {
     "name": "#%%\n"
    }
   }
  },
  {
   "cell_type": "code",
   "execution_count": null,
   "outputs": [],
   "source": [
    "# show result\n",
    "img_name = Path(img).name\n",
    "img_show = plt.imread(f'./runs/detect/exp/{img_name}', format='.jpg')\n",
    "plt.imshow(img_show)"
   ],
   "metadata": {
    "collapsed": false,
    "pycharm": {
     "name": "#%%\n",
     "is_executing": true
    }
   }
  },
  {
   "cell_type": "code",
   "execution_count": null,
   "outputs": [],
   "source": [
    "# HOCR\n",
    "result.xywh"
   ],
   "metadata": {
    "collapsed": false,
    "pycharm": {
     "name": "#%%\n"
    }
   }
  }
 ],
 "metadata": {
  "kernelspec": {
   "display_name": "Python 3",
   "language": "python",
   "name": "python3"
  },
  "language_info": {
   "codemirror_mode": {
    "name": "ipython",
    "version": 2
   },
   "file_extension": ".py",
   "mimetype": "text/x-python",
   "name": "python",
   "nbconvert_exporter": "python",
   "pygments_lexer": "ipython2",
   "version": "2.7.6"
  }
 },
 "nbformat": 4,
 "nbformat_minor": 0
}